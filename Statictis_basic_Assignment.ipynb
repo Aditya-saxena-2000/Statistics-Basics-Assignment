{
  "nbformat": 4,
  "nbformat_minor": 0,
  "metadata": {
    "colab": {
      "provenance": []
    },
    "kernelspec": {
      "name": "python3",
      "display_name": "Python 3"
    },
    "language_info": {
      "name": "python"
    }
  },
  "cells": [
    {
      "cell_type": "markdown",
      "source": [
        "Q.1  Explain the different types of data (qualitative and quantitative) and provide examples of each. Discuss\n",
        "nominal, ordinal, interval, and ratio scales.\n",
        "\n",
        "Ans. In data analysis, we mostly have two types of data.\n",
        "\n",
        "**1. Qualitative Data (Categorical Data):**\n",
        "\n",
        "**Qualitative Definition**\n",
        "\n",
        "It is non-numerical data that describes qualities, characteristics, or categories.\n",
        "\n",
        "**Examples**\n",
        "Colors (e.g.\"red\", \"blue\", \"green\")\n",
        "\n",
        "Gender (e.g. \"male\", \"female\")\n",
        "\n",
        "Product categories (e.g. \"electronics\", \"clothing\", \"books\")\n",
        "\n",
        "Customer reviews (e.g. \"Great product!\", \"Poor service.\")\n",
        "\n",
        "Python Representation\n",
        "\n",
        "Strings: color = \"blue\"\n",
        "\n",
        "Lists: categories = [\"electronics\", \"clothing\", \"books\"]\n",
        "\n",
        "**2. Quantitative Data (Numerical Data):**\n",
        "\n",
        "**Quantitative Definition**\n",
        "\n",
        "It is data that can be measured or counted and represents numerical values.\n",
        "Types:\n",
        "\n",
        "**Discrete:**\n",
        "\n",
        " Data that can take only a few pre-defined values; for instance, number of children, number of products sold.\n",
        "\n",
        "**Continuous:**\n",
        "\n",
        " Data that can have any value within a given range. For instance, temperature, height, weight.\n",
        "\n",
        "**Examples**\n",
        "\n",
        "Age-for example, 25, 30, 42\n",
        "\n",
        "Temperature-for example, 22.5°C, 72°F\n",
        "\n",
        "Sales revenue-for example, $1000, $2500\n",
        "\n",
        "Python Representation:\n",
        "\n",
        "Integers-age = 25 and Floats-temperature = 22.5."
      ],
      "metadata": {
        "id": "UZK4HbmEpxx0"
      }
    },
    {
      "cell_type": "code",
      "execution_count": 2,
      "metadata": {
        "colab": {
          "base_uri": "https://localhost:8080/"
        },
        "id": "CsmcM-xrnuXI",
        "outputId": "3b7eef37-fedb-4f06-b86a-7a9b9e8cb123"
      },
      "outputs": [
        {
          "output_type": "stream",
          "name": "stdout",
          "text": [
            "     Name  Gender  Age  Income\n",
            "0  Aditya    Male   25   10000\n",
            "1   Aditi  Female   22   20000\n",
            "2  Sadhna  Female   45   30000\n"
          ]
        }
      ],
      "source": [
        "#Example:\n",
        "import pandas as pd\n",
        "#Create data frame with both Qulative and Quantative data\n",
        "data = {'Name':['Aditya','Aditi','Sadhna'],'Gender':['Male','Female','Female'],'Age':[25,22,45],'Income':[10000,20000,30000]}\n",
        "df = pd.DataFrame(data)\n",
        "print(df)"
      ]
    },
    {
      "cell_type": "markdown",
      "source": [
        "Although Python does not have defined data types for these scales of measurement, knowledge of them is very important in the analysis and interpretation of data. Let's discuss them with examples:\n",
        "\n",
        "**1. Nominal Scale:**\n",
        "\n",
        "Definition: Displays categories without any inherent order or ranking.\n",
        "\n",
        "For instance: Gender, color, names of countries.\n",
        "\n",
        "Python Representation: Generally stored as strings or integers which act as names.\n",
        "\n",
        "Operations: Equality comparisons, frequency counts and mode calculations"
      ],
      "metadata": {
        "id": "cqZmHzlBvTXm"
      }
    },
    {
      "cell_type": "code",
      "source": [
        "#Example\n",
        "gender = [\"Male\",\"Female\",\"Male\",\"Female\"]\n",
        "print(gender)"
      ],
      "metadata": {
        "colab": {
          "base_uri": "https://localhost:8080/"
        },
        "id": "ovaUogQariqP",
        "outputId": "fa73f96a-00d3-4d3f-df14-0cfd9096ecaf"
      },
      "execution_count": 3,
      "outputs": [
        {
          "output_type": "stream",
          "name": "stdout",
          "text": [
            "['Male', 'Female', 'Male', 'Female']\n"
          ]
        }
      ]
    },
    {
      "cell_type": "markdown",
      "source": [
        "**2. Ordinal Scale:**\n",
        "\n",
        "Definition :\n",
        "\n",
        "A set of categories that has meaningful order or ranking, though the\n",
        "differences in categories are not measureable.\n",
        "\n",
        "Examples :\n",
        "\n",
        "Level of education (High school, Bachelor's, Master's), customer satisfaction ratings (Poor, Fair, Good, Excellent).\n",
        "\n",
        "Python Representation\n",
        "\n",
        "Mostly it is represented in terms of strings or integers but remember the ordering,\n",
        "\n",
        "Operations\n",
        "\n",
        "Equality comparison, frequency counting, mode calculation, and ordinal comparison with >=, <=."
      ],
      "metadata": {
        "id": "BHSitlFFweTV"
      }
    },
    {
      "cell_type": "code",
      "source": [
        "satisfaction = [\"Poor\",\"Fair\",\"Good\",\"Great\"]\n",
        "print(satisfaction)"
      ],
      "metadata": {
        "colab": {
          "base_uri": "https://localhost:8080/"
        },
        "id": "JwnQ10I7wcps",
        "outputId": "4cb1926c-596c-400d-a234-789f1d4f1a1f"
      },
      "execution_count": 4,
      "outputs": [
        {
          "output_type": "stream",
          "name": "stdout",
          "text": [
            "['Poor', 'Fair', 'Good', 'Great']\n"
          ]
        }
      ]
    },
    {
      "cell_type": "markdown",
      "source": [
        "**3. Interval Scale:**\n",
        "\n",
        "Definition:\n",
        "\n",
        " A scale which represents numbers in terms of a meaningful order and at the same time having equal intervals between values, however without true zero point.\n",
        "\n",
        "Examples:\n",
        "\n",
        " Temperature in Celsius or Fahrenheit, Calendar dates, IQ scores,.\n",
        "\n",
        "Representation in Python Usually represented as numeric types: int, float.\n",
        "\n",
        "Operations:\n",
        "\n",
        " Equality comparison, count frequency, computation of mode, ordinal comparison, arithmetic operations such as addition and subtraction."
      ],
      "metadata": {
        "id": "fwSErJlxx_Sb"
      }
    },
    {
      "cell_type": "code",
      "source": [
        "#Example\n",
        "tempreture = [20,21,25,30]\n",
        "print(tempreture)"
      ],
      "metadata": {
        "colab": {
          "base_uri": "https://localhost:8080/"
        },
        "id": "MKaXaeiZx4vD",
        "outputId": "546f031e-218a-4b3d-e92a-29e85c8561e4"
      },
      "execution_count": 5,
      "outputs": [
        {
          "output_type": "stream",
          "name": "stdout",
          "text": [
            "[20, 21, 25, 30]\n"
          ]
        }
      ]
    },
    {
      "cell_type": "markdown",
      "source": [
        "*4. Ratio Scale:**\n",
        "\n",
        "Definition Numerical data having meaningful order and exhibiting equal intervals between the values and a true zero point.\n",
        "\n",
        "Illustrations:\n",
        "\n",
        " Height, weight, time, income.\n",
        "\n",
        "Python Representation:\n",
        "\n",
        " They are represented as numeric data types (int, float).\n",
        "\n",
        "Operations:\n",
        "\n",
        " All operations allowed on interval data, including multiplication and division."
      ],
      "metadata": {
        "id": "2MfGlQH7yYDy"
      }
    },
    {
      "cell_type": "code",
      "source": [
        "weight =[30,40,50,60,]\n",
        "print(weight)"
      ],
      "metadata": {
        "colab": {
          "base_uri": "https://localhost:8080/"
        },
        "id": "dZyFpMsmyW0J",
        "outputId": "549401ef-c085-4e88-8ec9-b21fa581626e"
      },
      "execution_count": 7,
      "outputs": [
        {
          "output_type": "stream",
          "name": "stdout",
          "text": [
            "[30, 40, 50, 60]\n"
          ]
        }
      ]
    },
    {
      "cell_type": "markdown",
      "source": [
        "Q.2  What are the measures of central tendency, and when should you use each? Discuss the mean, median,\n",
        "and mode with examples and situations where each is appropriate.\n",
        "\n",
        "Ans. Mathematically central tendency means measuring the center or distribution of location of values of a data set. It gives an idea of the average value of the data in the data set and also an indication of how widely the values are spread in the data set.\n",
        "\n",
        "When to use each measure of Central Tendency\n",
        "\n",
        "**1.Mean:**\n",
        "\n",
        "Mean is the most frequently used measure of central tendency and generally considered the best measure of it. However, there are some situations where either median or mode are preferred.\n",
        "\n",
        "\n",
        "**2.Median:**\n",
        "\n",
        "Median is the preferred measure of central tendency when:\n",
        "\n",
        "*There are a few extreme scores in the distribution of the data. (NOTE: Remember that a single outlier can have a great effect on the mean). b.\n",
        "\n",
        "*There are some missing or undetermined values in your data. c.\n",
        "\n",
        "*There is an open ended distribution (For example, if you have a data field which measures number of children and your options are 0,1,2,3,4,5 or “6 or more,” than the “6 or more field” is open ended and makes calculating the mean impossible, since we do not know exact values for this field).\n",
        "\n",
        "*You have data measured on an ordinal scale.\n",
        "\n",
        "\n",
        "**3.Mode:**\n",
        "\n",
        "Mode is the preferred measure when data are measured in a nominal ( and even sometimes ordinal) scale.\n",
        "\n",
        "\n"
      ],
      "metadata": {
        "id": "AMPheqOLy2jB"
      }
    },
    {
      "cell_type": "markdown",
      "source": [
        "Mean, Median and Mode are few measures of central tendency in statistics. These help in summarizing a dataset by introducing one representative value.\n",
        "\n",
        "\n",
        "**1.Mean :**\n",
        "\n",
        "**Definition:**\n",
        "\n",
        "The mean, on the other hand, is the average of all the values in a dataset. It is calculated as the sum of all values and then divided by the number of values in a dataset.\n",
        "\n",
        "**Example:**\n",
        "\n",
        "Take this sample data set: The sample mean = (2 + 4 + 6 + 8 + 10) / 5 = 6\n",
        "\n",
        "\n",
        "**When to use:**\n",
        "\n",
        "The mean is reasonable to use when the data distributed normally and no outlier is large enough to affect it. The mean is sensitive to outliers; one extreme value could hugely affect the mean."
      ],
      "metadata": {
        "id": "fouZcdC6e4he"
      }
    },
    {
      "cell_type": "code",
      "source": [
        "import numpy as np\n",
        "\n",
        "data = [1,2,3,4,5]\n",
        "mean = np.mean(data)\n",
        "print(mean)"
      ],
      "metadata": {
        "colab": {
          "base_uri": "https://localhost:8080/"
        },
        "id": "1BMimkD0EWLA",
        "outputId": "a4a9a965-3ef9-41cd-efa6-ac01f8e411bf"
      },
      "execution_count": 30,
      "outputs": [
        {
          "output_type": "stream",
          "name": "stdout",
          "text": [
            "3.0\n"
          ]
        }
      ]
    },
    {
      "cell_type": "markdown",
      "source": [
        "**2.Medium:**\n",
        "\n",
        "**Definition:**\n",
        "\n",
        "It is the middle value in an ordered set of data. If there were an even number of data values, then the middle pair would average to provide the measure.\n",
        "\n",
        "**Example:**\n",
        "\n",
        "Consider the data. The median is 6.\n",
        "Use the median when a distribution is skewed or contains outliers. As compared to mean, it is less sensitive to outliers so is relatively a better choice in cases where the presence of outliers cannot be ignored."
      ],
      "metadata": {
        "id": "CyKgBsOFfybS"
      }
    },
    {
      "cell_type": "code",
      "source": [
        "data = [1,2,3,4,5,6,7,8,9]\n",
        "median = np.median(data)\n",
        "print(median)"
      ],
      "metadata": {
        "colab": {
          "base_uri": "https://localhost:8080/"
        },
        "id": "lS7yekf_fgP3",
        "outputId": "c9f6e933-7985-41b1-aa4c-aa8515935343"
      },
      "execution_count": 31,
      "outputs": [
        {
          "output_type": "stream",
          "name": "stdout",
          "text": [
            "5.0\n"
          ]
        }
      ]
    },
    {
      "cell_type": "markdown",
      "source": [
        "**3.Mode:**\n",
        "\n",
        "The mode is the value that appears most frequently in a set of data.\n",
        "\n",
        "**Example:** Observe the data set. The mode is 4.\n",
        "\n",
        "\n",
        "**Use when to apply:**\n",
        "\n",
        " The mode is best to use with categorical data, or if you are interested in the most frequently occurring value in a set of data."
      ],
      "metadata": {
        "id": "ni7AEqu8ghDF"
      }
    },
    {
      "cell_type": "code",
      "source": [
        "from scipy import stats\n"
      ],
      "metadata": {
        "id": "wAprrhWBgePI"
      },
      "execution_count": 35,
      "outputs": []
    },
    {
      "cell_type": "code",
      "source": [
        "\n",
        "\n",
        "data = [2, 4, 4, 6, 8, 10]\n",
        "mode = stats.mode(data)\n",
        "# mode.mode might be a scalar, so we print it directly.\n",
        "print(mode.mode)\n",
        "# previously: print(mode.mode[0])"
      ],
      "metadata": {
        "colab": {
          "base_uri": "https://localhost:8080/"
        },
        "id": "gfeVds4-hNgk",
        "outputId": "40c58fe6-a1be-4976-93b5-9f45703dbbe0"
      },
      "execution_count": 37,
      "outputs": [
        {
          "output_type": "stream",
          "name": "stdout",
          "text": [
            "4\n"
          ]
        }
      ]
    },
    {
      "cell_type": "markdown",
      "source": [
        "Q.3   Explain the concept of dispersion. How do variance and standard deviation measure the spread of data?\n",
        "\n",
        "Ans. Dispersion is the spread or variability of data points in a dataset. It depicts how far the data points are scattered away from the central tendency, such as mean, median, or mode.\n",
        "\n",
        "\n",
        "**Measures of Dispersion:**\n",
        "\n",
        "**Range:**\n",
        "\n",
        "Difference of the maximum value and minimum value available in the dataset. It's simple to calculate but is sensitive to outliers.\n",
        "\n",
        "**Interquartile Range (IQR):**\n",
        "It is the difference between the 75th percentile (Q3) and the 25th percentile (Q1). It is more resistant to outliers than the range.\n",
        "\n",
        "\n",
        "**Variance:**\n",
        "\n",
        "The average of the squared deviations of every data point from the mean. It gives a measure of how much the data points vary from the mean value.\n",
        "\n",
        "**Standard Deviation:**\n",
        "\n",
        "It is the square root of variance. It is one of the most frequently used dispersion measures. It is measured in the same units as the raw data, so it is easier to understand and use in interpretations."
      ],
      "metadata": {
        "id": "etulnb3ThaYf"
      }
    },
    {
      "cell_type": "code",
      "source": [
        "data = [10,12,15,18,21]\n",
        "# Calculate Variance using Numpy\n",
        "variance = np.var(data)\n",
        "print(\"Variance:\", variance)"
      ],
      "metadata": {
        "colab": {
          "base_uri": "https://localhost:8080/"
        },
        "id": "_-_tOR4BhY-N",
        "outputId": "0ee48562-357c-4a69-a7c6-7dcbdf51e538"
      },
      "execution_count": 41,
      "outputs": [
        {
          "output_type": "stream",
          "name": "stdout",
          "text": [
            "Variance: 15.76\n"
          ]
        }
      ]
    },
    {
      "cell_type": "code",
      "source": [
        "# Calculate Standard Deviation usine Numpy\n",
        "std_dev = np.std(data)\n",
        "print (\"Standard Deviation:\", std_dev )"
      ],
      "metadata": {
        "colab": {
          "base_uri": "https://localhost:8080/"
        },
        "id": "1bLCzZsajbm5",
        "outputId": "fce91182-5865-4201-ea03-66d4c3c067ff"
      },
      "execution_count": 42,
      "outputs": [
        {
          "output_type": "stream",
          "name": "stdout",
          "text": [
            "Standard Deviation: 3.9698866482558417\n"
          ]
        }
      ]
    },
    {
      "cell_type": "markdown",
      "source": [
        "Q.4  What is a box plot, and what can it tell you about the distribution of data?\n",
        "\n",
        "Ans. It is known as a box and whisker plot, but is merely referred to by the name box plot, which is a type of graph used in illustrating the data distribution. It is rather intriguing to view a set of data through the aid of a single plot and compare the spread and central tendency of various data groups. So, let's discuss the key elements of a box plot.\n",
        "\n",
        "\n",
        "**Box:**\n",
        "\n",
        "Another way to represent the IQR is to look at the box itself: the middle 50% in the data, with Q1 - the lower quartile, and Q3 - the upper quartile.\n",
        "\n",
        "**Median line:**\n",
        "\n",
        "The line inside a box signifies the median value: 50% of data falls below and above it.\n",
        "\n",
        "**Whiskers:**\n",
        "\n",
        "The lines that are drawn out to the minimum and maximum, other than outliers, refer to an overall range of data.\n",
        "\n",
        "**Outliers:**\n",
        "\n",
        "The data points that clearly lie outside the whiskers are usually plotted as single dots as potential outliers.\n",
        "\n",
        "What can be learned about the distribution of data in Python from a box plot:\n",
        "\n",
        "**About Central tendency:**\n",
        "\n",
        "One can even see if the data is skewed on one or the other side by the presence of the median line.\n",
        "\n",
        "**Spread and Variability:**\n",
        "\n",
        "Box length depicts the spread of middle 50% of the data. The box length that is wider means that the data set has a wider spread, and the one with the narrow box length indicates that the data has little spread.\n",
        "\n",
        "**Outliers:**\n",
        "The points outside the whiskers are the outliers of this study that require further investigation\n",
        "\n",
        "**Comparison between groups:**\n",
        "\n",
        "It is easy to compare their central tendencies as well as spread and possible existence of outliers when there are multiple groups in the same plot."
      ],
      "metadata": {
        "id": "tOYqzdTmkQlQ"
      }
    },
    {
      "cell_type": "code",
      "source": [
        "# Example\n",
        "\n",
        "data1 = [1, 2, 3, 4, 5, 6, 7, 8, 9, 10]\n",
        "data2 = [1, 1, 1, 2, 2, 2, 3, 3, 3, 10]\n",
        "fig, ax = plt.subplots()\n",
        "ax.boxplot([data1, data2])\n",
        "\n",
        "plt.show()\n"
      ],
      "metadata": {
        "colab": {
          "base_uri": "https://localhost:8080/",
          "height": 430
        },
        "id": "giuriYZdlYGn",
        "outputId": "f5f39344-f158-4a95-8deb-6dea897acab4"
      },
      "execution_count": 47,
      "outputs": [
        {
          "output_type": "display_data",
          "data": {
            "text/plain": [
              "<Figure size 640x480 with 1 Axes>"
            ],
            "image/png": "[encoded data removed]"
          },
          "metadata": {}
        }
      ]
    },
    {
      "cell_type": "markdown",
      "source": [
        "Q.5 Discuss the role of random sampling in making inferences about populations.\n",
        "\n",
        "Ans. A very important role that random sampling plays in making inferences about populations is ensuring every member of a given population has a fair chance to be selected for a sample that enables researchers to draw proper conclusions about the larger group based on data obtained from a relatively smaller, representative subset without having to examine every individual within the population. This is especially important with the study of large populations where it would be practically impossible to collect data from everyone.\n",
        "\n",
        "Key points about random sampling and population inferences:\n",
        "\n",
        "**Unbiased representation:**\n",
        "\n",
        "The random choice of samples by the researcher will minimize the chances of including personal bias or picking people who cannot represent the population characteristics accurately, and therefore increase the validity of inferences.\n",
        "\n",
        "**Statistical validity:**\n",
        "\n",
        "Random sampling allows the employment of statistical methodology in analyzing the sample and obtaining the range of estimates with some degree of confidence, which thus enables researchers to approximate the degree of uncertainty of their inferences concerning the population.\n",
        "\n",
        "**Generalizability:**\n",
        "\n",
        "In the case of a sample drawn randomly, then the conclusions drawn from that sample can be generalized to the larger population. Therefore, the findings drawn from the sample are relevant for the larger group.\n",
        "\n",
        "Different kinds of random sampling methodologies:\n",
        "\n",
        "It is the most basic method of sampling. Other methods of random sampling, such as stratified random sampling, may be used to ensure that certain subgroups in the population are represented well in the sample.\n",
        "\n",
        "**Limitations of random sampling:**\n",
        "\n",
        "**Difficult implementation:**\n",
        "\n",
        "It is sometimes impossible to provide a truly random sample, especially for large or geographically dispersed populations.\n",
        "\n",
        "**Sampling error:**\n",
        "\n",
        "Even with randomized sampling, there can never be no error due to this variability in a population, which could sometimes affect one's inferences.\n",
        "\n",
        "Random sampling is considered as a basic tenet in research because it is assumed that it allows researchers to determine valid statistical inferences about a population by selecting a representative subset that accurately reflects the characteristics of that larger group.\n"
      ],
      "metadata": {
        "id": "sMgEc-RSm3lc"
      }
    },
    {
      "cell_type": "markdown",
      "source": [
        "Q.6 Explain the concept of skewness and its types. How does skewness affect the interpretation of data?\n",
        "\n",
        "Ans.Skewness is a statistical measure used to describe the asymmetry of a probability distribution. It can be used as an indicator of direction and degree to which the distribution deviates from normal distribution, which is symmetrical in shape like a bell.\n",
        "\n",
        "\n",
        "**Types of Skewness:**\n",
        "\n",
        "**Positive Skewness (Right-Skewed):**\n",
        "\n",
        "The tail on the right is longer or thicker than the tail on the left. In other words, the majority of the data points are clustered on the left. A few high values pull the mean to the right.\n",
        "\n",
        "Example: Income distribution tends to be positively skewed, where a few individuals have much more income while most of the people have lesser income.\n",
        "Mean, Median, and Mode: Mean > Median > Mode\n",
        "\n",
        "**Negative Skewness (Left-Skewed):**\n",
        "\n",
        "The left tail of the distribution is longer or fatter as compared to the right tail. This is an indication that there is a concentration of data points on the right side and some low values are pulling the mean towards the left side.\n",
        "\n",
        "Example: If most students score high, but a few students score very low, then there is negative skewness in exam scores.\n",
        "Mean-Median-Mode Relationship: Mean < Median < Mode\n",
        "\n",
        "**Zero Skewness:**\n",
        "\n",
        "The distribution is perfectly symmetrical. In this case, the mean, median, and mode are equal to each other.\n",
        "\n",
        "Example: A normal distribution has zero skewness.\n",
        "\n",
        "**Calculating Skewness in Python:**\n",
        "\n",
        "Use the following code to calculate the skewness of a series:\n",
        "pandas.Series.skew()"
      ],
      "metadata": {
        "id": "NeXLuZIeEAn_"
      }
    },
    {
      "cell_type": "code",
      "source": [
        "# Example\n",
        "data = [1,2,3,4,5,6,7,8,9,10]\n",
        "df = pd.DataFrame(data,columns=['vaules'])\n",
        "sekwness = df['vaules'].skew()\n",
        "print(sekwness)"
      ],
      "metadata": {
        "colab": {
          "base_uri": "https://localhost:8080/"
        },
        "id": "ap6w6d1sGOpX",
        "outputId": "b02fe68b-2a53-4564-d24e-a1867f9c9bda"
      },
      "execution_count": 7,
      "outputs": [
        {
          "output_type": "stream",
          "name": "stdout",
          "text": [
            "0.0\n"
          ]
        }
      ]
    },
    {
      "cell_type": "markdown",
      "source": [
        "**Interpretation of Skewness:**\n",
        "\n",
        "**Zero Skewness:**\n",
        "\n",
        "A perfectly symmetrical distribution has its skewness as zero. Such a distribution is the normal distribution.\n",
        "\n",
        "**Positive Skewness:**\n",
        "\n",
        "Here, the left tail is less than the right one, and hence there will be mostly smaller values but a few large values. Here the mean is greater than the median.\n",
        "\n",
        "**Negative Skewness:**\n",
        "Here, the left tail is more than the right tail, and thus it contains many large values along with fewer smaller values. In such cases, the mean is smaller than the median."
      ],
      "metadata": {
        "id": "OfNMT8UuHADB"
      }
    },
    {
      "cell_type": "markdown",
      "source": [
        "Q.7 What is the interquartile range (IQR), and how is it used to detect outliers?\n",
        "\n",
        "Ans. The interquartile range is the number of data units from the lower end of the middle 50% to the upper end of the same middle 50%.\n",
        "It's the difference between Q3 : IQR = Q3 - Q1\n",
        "\n",
        "How do I apply IQR to detect the presence of outliers?\n",
        "\n",
        "**Calculate the IQR:**\n",
        "\n",
        "1.Calculate the first quartile, Q1 and the third quartile, Q3 of your dataset. You can then subtract Q1 from Q3 to get the IQR.\n",
        "\n",
        "2.Calculate the lower and upper bounds:\n",
        "  \n",
        "  *Lower bound: Q1 - 1.5 * IQR\n",
        "\n",
        "  *Upper bound: Q3 + 1.5 * IQR\n",
        "\n",
        "3.Determine outliers: Any data point that falls below the lower bound or above the upper bound is the potential outlier."
      ],
      "metadata": {
        "id": "bnRQ1o-aHJKz"
      }
    },
    {
      "cell_type": "code",
      "source": [
        "# Example\n",
        "import numpy as np\n",
        "data =[1,2,3,4,5,6,7,8,9,10,100]\n",
        "\n",
        "q1 = np.percentile(data,25)\n",
        "q3 = np.percentile(data,75)\n",
        "iqr = q3-q1\n",
        "print(iqr)"
      ],
      "metadata": {
        "colab": {
          "base_uri": "https://localhost:8080/"
        },
        "id": "KLjxbek7Gxpq",
        "outputId": "30b8a289-3c23-40c7-f63b-05612c05228e"
      },
      "execution_count": 10,
      "outputs": [
        {
          "output_type": "stream",
          "name": "stdout",
          "text": [
            "5.0\n"
          ]
        }
      ]
    },
    {
      "cell_type": "markdown",
      "source": [
        "Q.8  Discuss the conditions under which the binomial distribution is used.\n",
        "\n",
        "Ans. The Binomial distribution is a suitable model that can be used in computing the probability of getting a specific number of successes in the set of trials.\n",
        "\n",
        "**Binomial Distribution Condition**\n",
        "\n",
        "The Binomial distribution can be used when the following conditions are met:\n",
        "\n",
        "**1.Number of Trials Fixed:**\n",
        "\n",
        "There is a fixed number of trials or experiments taken (n), like getting heads three times in ten tosses of a coin.\n",
        "\n",
        "**2.Two Possible Results:**\n",
        "Each experiment has only two possible results. At times these possible results are named \"success\" and \"failure.\" For instance, a coin is heads or it is tails .\n",
        "\n",
        "**3.Independent Trials:**\n",
        "\n",
        "The result derived from each of these independent experiments depends not on the results of any of the others. Therefore, the result of one experiment does not affect the result of another.\n",
        "\n",
        "\n",
        "**4.Constant Probability:**\n",
        "\n",
        "The probability that a success will occur is the same on all and any trials, say the chance of success denoted by p. In particular, if you are flipping a fair coin, the chances that heads will come up every time remain at 0.5."
      ],
      "metadata": {
        "id": "iLVk8ChpIz52"
      }
    },
    {
      "cell_type": "markdown",
      "source": [
        "Q.9  Explain the properties of the normal distribution and the empirical rule (68-95-99.7 rule).\n",
        "\n",
        "Ans.The normal distribution, or, if you will, the Gaussian distribution is a bell-shaped probability distribution. It has all these important properties:\n",
        "\n",
        "\n",
        "**Properties of the Normal Distribution:**\n",
        "\n",
        "**1.Symmetric:**\n",
        "\n",
        "\n",
        "The distribution is symmetric around the mean. In other words, the left and right parts of the curve are mirror images of each other.\n",
        "\n",
        "\n",
        "**2.Mean, Median, and Mode:**\n",
        "\n",
        "In a normal curve, the mean, median, and mode are equal and fall in the middle of the curve.\n",
        "\n",
        "**3.Standard Deviation:**\n",
        "\n",
        "Standard deviation represents how spread out the curve is. The larger the value of the standard deviation, the more spread out the curve is and vice versa, that is, the lesser the standard deviation, the narrower is the curve.\n",
        "\n",
        "**Empirical Rule:**\n",
        "\n",
        "The empirical rule, also known as the 68-95-99.7 rule, states that about 68% of data points fall within one standard deviation of the mean, about 95% fall within two standard deviations, and about 99.7% fall within three standard deviations.\n"
      ],
      "metadata": {
        "id": "2e1cxLY9J73t"
      }
    },
    {
      "cell_type": "code",
      "source": [
        "# Example\n",
        "import numpy as np\n",
        "import matplotlib.pyplot as plt\n",
        "from scipy.stats import norm\n",
        "\n",
        "# Generate a normal distribution with mean=0 and standard deviation=1\n",
        "mu = 0\n",
        "sigma = 1\n",
        "x = np.linspace(mu - 3*sigma, mu + 3*sigma, 100)\n",
        "y = norm.pdf(x, mu, sigma)\n",
        "\n",
        "# Plot the normal distribution curve\n",
        "plt.plot(x, y)\n",
        "plt.title('Normal Distribution with Mean=0 and Standard Deviation=1')\n",
        "plt.xlabel('X')\n",
        "plt.ylabel('Probability Density')\n",
        "\n",
        "# Shade the areas for 1, 2, and 3 standard deviations\n",
        "plt.fill_between(x, y, 0, where=(x > mu - sigma) & (x < mu + sigma), alpha=0.2)\n",
        "plt.fill_between(x, y, 0, where=(x > mu - 2*sigma) & (x < mu + 2*sigma), alpha=0.2)\n",
        "plt.fill_between(x, y, 0, where=(x > mu - 3*sigma) & (x < mu + 3*sigma), alpha=0.2)\n",
        "\n",
        "plt.show()"
      ],
      "metadata": {
        "colab": {
          "base_uri": "https://localhost:8080/",
          "height": 472
        },
        "id": "B3gdegpqKknv",
        "outputId": "a95d14f0-5df3-4545-909f-89549c1bd859"
      },
      "execution_count": 12,
      "outputs": [
        {
          "output_type": "display_data",
          "data": {
            "text/plain": [
              "<Figure size 640x480 with 1 Axes>"
            ],
            "image/png": "[encoded data removed]"
          },
          "metadata": {}
        }
      ]
    },
    {
      "cell_type": "markdown",
      "source": [
        "Q.10 Provide a real-life example of a Poisson process and calculate the probability for a specific event.\n",
        "\n",
        "Ans."
      ],
      "metadata": {
        "id": "IYW0AoaXL10t"
      }
    },
    {
      "cell_type": "code",
      "source": [
        "import scipy.stats as stats\n",
        "\n",
        "# Example: Number of customers arriving at a store in an hour\n",
        "# Assume an average of 10 customers arrive per hour (lambda = 10)\n",
        "\n",
        "lambda_rate = 10\n",
        "\n",
        "# Calculate the probability of exactly 15 customers arriving in an hour\n",
        "k = 15  # Number of events we're interested in\n",
        "\n",
        "probability = stats.poisson.pmf(k, lambda_rate)\n",
        "\n",
        "print(f\"The probability of {k} customers arriving in an hour is: {probability:.4f}\")"
      ],
      "metadata": {
        "colab": {
          "base_uri": "https://localhost:8080/"
        },
        "id": "HN29_DugLCsX",
        "outputId": "0f804cbd-0ccc-4c4c-e222-73afbf38577b"
      },
      "execution_count": 13,
      "outputs": [
        {
          "output_type": "stream",
          "name": "stdout",
          "text": [
            "The probability of 15 customers arriving in an hour is: 0.0347\n"
          ]
        }
      ]
    },
    {
      "cell_type": "markdown",
      "source": [
        "**Explanation:**\n",
        "\n",
        "**Real-life example:**\n",
        "\n",
        "The number of customers that arrive to a store in a given amount of time is often modeled as a Poisson process.\n",
        "\n",
        "**Poisson distribution:**\n",
        "\n",
        "The Poisson distribution is used to find the probability of a specific number of occurrences that occur within a predetermined amount of time or space, knowing that the average rate of the occurrences is known.\n",
        "\n",
        "**scipy.stats.poisson**\n",
        "\n",
        "The Python library contains functions to work with the Poisson distribution.\n",
        "\n",
        "**npmf:**\n",
        "\n",
        "The probability mass function computes the probability of seeing exactly k events.\n",
        "\n",
        "**lambda_rate:**\n",
        "\n",
        "average rate at which events are occurring; in this case, the rate at which customers are arriving per hour.\n",
        "\n",
        "**k:**\n",
        "\n",
        "number of events we want the probability for."
      ],
      "metadata": {
        "id": "fmlQP5sYMG3t"
      }
    },
    {
      "cell_type": "markdown",
      "source": [
        "Q.11  Explain what a random variable is and differentiate between discrete and continuous random variables.\n",
        "\n",
        "Ans. A random variable is defined as any variable in statistics, which depends upon the occurring of a random event. The main difference between discrete and continuous random variables rests on the kind of range their values can take:\n",
        "\n",
        "**Discrete Random Variables**\n",
        "\n",
        "Can only take a finite number of values. For example, the number obtained by rolling a die is an example of a discrete random variable since it can end up on one of six possible numbers.\n",
        "\n",
        "**Continuous Random Variables**\n",
        "Can take any value in a given range or an infinitely large set of values possible. For instance, the weight of an animal would be a continuous random variable as it could potentially be any positive number.\n",
        "\n",
        "Other differences between discrete and continuous random variables are:\n",
        "\n",
        "**Usage**\n",
        "\n",
        "Discrete random variables are used for counting whereas continuous random variables are used in measurement.\n",
        "\n",
        "**Mathematical computation**\n",
        "\n",
        "Summation is used to find a range of probabilities for discrete random variables, while integration is used for continuous random variables.\n",
        "\n",
        "Some examples Other examples of discrete random variables include heads or tails, playing cards, etc. Examples of continuous random variables include temperature, time, height, and weight, etc."
      ],
      "metadata": {
        "id": "D2d10AE2Ml8J"
      }
    },
    {
      "cell_type": "markdown",
      "source": [
        "Q.12  Provide an example dataset, calculate both covariance and correlation, and interpret the results.\n",
        "\n",
        "Ans."
      ],
      "metadata": {
        "id": "YMfmNftJN6ce"
      }
    },
    {
      "cell_type": "code",
      "source": [
        "import pandas as pd\n",
        "import numpy as np\n",
        "\n",
        "# Create a sample dataset\n",
        "data = {'x': [1, 2, 3, 4, 5], 'y': [5, 7, 8, 10, 12]}\n",
        "df = pd.DataFrame(data)\n",
        "\n",
        "# Calculate covariance\n",
        "covariance = np.cov(df['x'], df['y'])[0, 1]\n",
        "print(\"Covariance:\", covariance)\n",
        "\n",
        "# Calculate correlation\n",
        "correlation = np.corrcoef(df['x'], df['y'])[0, 1]\n",
        "print(\"Correlation:\", correlation)"
      ],
      "metadata": {
        "colab": {
          "base_uri": "https://localhost:8080/"
        },
        "id": "JEwsHYJ9OpYM",
        "outputId": "8ed7c3c1-78b8-4570-d200-97416ca393c0"
      },
      "execution_count": 14,
      "outputs": [
        {
          "output_type": "stream",
          "name": "stdout",
          "text": [
            "Covariance: 4.25\n",
            "Correlation: 0.9948497511671097\n"
          ]
        }
      ]
    },
    {
      "cell_type": "markdown",
      "source": [
        "**Interpretation:**\n",
        "\n",
        "**Covariance:**\n",
        "\n",
        " 1. The covariance value shows the direction that the two variables have towards each other.\n",
        "\n",
        " 2. A positive covariance means variables tend to move in the same direction; that is, when one increases, the other tends to increase.\n",
        " 3. In a negative covariance, the variables tend to move against each other's direction. That is, if one tends to rise, the other tends to decrease.\n",
        " 4. The magnitude of the covariance is not very meaningful because it depends on the scales of the variables."
      ],
      "metadata": {
        "id": "f4invfOjOy1V"
      }
    }
  ]
}